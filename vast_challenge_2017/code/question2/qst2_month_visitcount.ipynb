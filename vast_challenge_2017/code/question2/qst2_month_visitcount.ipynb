{
 "cells": [
  {
   "cell_type": "code",
   "execution_count": 1,
   "metadata": {},
   "outputs": [
    {
     "data": {
      "text/html": [
       "<script>requirejs.config({paths: { 'plotly': ['https://cdn.plot.ly/plotly-latest.min']},});if(!window.Plotly) {{require(['plotly'],function(plotly) {window.Plotly=plotly;});}}</script>"
      ],
      "text/vnd.plotly.v1+html": [
       "<script>requirejs.config({paths: { 'plotly': ['https://cdn.plot.ly/plotly-latest.min']},});if(!window.Plotly) {{require(['plotly'],function(plotly) {window.Plotly=plotly;});}}</script>"
      ]
     },
     "metadata": {},
     "output_type": "display_data"
    }
   ],
   "source": [
    "import filterData as fd\n",
    "import pandas as pd\n",
    "import datetime\n",
    "import matplotlib.pyplot as plt\n",
    "import numpy as np\n",
    "import plotly\n",
    "import plotly.offline as py\n",
    "import plotly.tools as tls\n",
    "import datetime\n",
    "from plotly.graph_objs import *\n",
    "plotly.offline.init_notebook_mode(connected=True)"
   ]
  },
  {
   "cell_type": "code",
   "execution_count": 2,
   "metadata": {
    "collapsed": true
   },
   "outputs": [],
   "source": [
    "#READING DATASET\n",
    "X=pd.read_csv('../data/Lekagul_Sensor_Data.csv')\n",
    "X.columns=['Timestamp','car_id','car_type','gate_name']\n",
    "X['Timestamp']=pd.to_datetime(X['Timestamp'])\n",
    "X['Day']=[X.loc[i,'Timestamp'].weekday() for i in range(X.shape[0])]\n",
    "X['Month']=[X.loc[i,'Timestamp'].month for i in range(X.shape[0])]\n",
    "X['Year']=[X.loc[i,'Timestamp'].year for i in range(X.shape[0])]\n",
    "X['Date']=[X.loc[i,'Timestamp'].day for i in range(X.shape[0])]\n",
    "\n",
    "\n"
   ]
  },
  {
   "cell_type": "code",
   "execution_count": 3,
   "metadata": {},
   "outputs": [
    {
     "name": "stdout",
     "output_type": "stream",
     "text": [
      "month is [1]\n",
      "month is [2]\n",
      "month is [3]\n",
      "month is [4]\n",
      "month is [5]\n",
      "month is [6]\n",
      "month is [7]\n",
      "month is [8]\n",
      "month is [9]\n",
      "month is [10]\n",
      "month is [11]\n",
      "month is [12]\n"
     ]
    }
   ],
   "source": [
    "# FINDING MAY2015 ENTRIES\n",
    "obj=fd.datafilter()\n",
    "monthdict={1:'January', 2:'February', 3:'March', 4:'April', 5:'May', 6:'June', 7:'July', 8:'August', 9:'September', 10:'October', 11:'November', 12:'December'}\n",
    "yeardict={1:2016,2:2016,3:2016,4:2016,5:2015,6:2015,7:2015,8:2015,9:2015,10:2015,11:2015,12:2015}\n",
    "colorlist=['#47BEC0','#F04A1C','#DB41E2','#48C621','#60385A','#3E5617','#7092EC','#F13F7A','#BEA927','#76360E','#D99BBB','#33626B']\n",
    "tracedict={}\n",
    "for i in range(1,13):\n",
    "    obj.setMonth([i])\n",
    "    obj.setYear([yeardict[i]])\n",
    "    temp=obj.runFilter(X)\n",
    "    temp=temp.groupby(['gate_name']).agg(['count'])\n",
    "    temp=temp.iloc[:,0:1]\n",
    "    \n",
    "    tracedict[i]= Scatter(\n",
    "    x=list(temp.index),\n",
    "    y=list(temp.iloc[:,0]),\n",
    "    line=Line(\n",
    "        color=colorlist[i-1],\n",
    "        width=2\n",
    "    ),\n",
    "    name=monthdict[i]\n",
    ")"
   ]
  },
  {
   "cell_type": "code",
   "execution_count": 4,
   "metadata": {
    "collapsed": true
   },
   "outputs": [],
   "source": [
    "data=[tracedict[1],tracedict[2],tracedict[3],tracedict[4],tracedict[5],tracedict[6],tracedict[7],tracedict[8],tracedict[9],tracedict[10],tracedict[11],tracedict[12]]\n"
   ]
  },
  {
   "cell_type": "code",
   "execution_count": 5,
   "metadata": {
    "collapsed": true
   },
   "outputs": [],
   "source": [
    "layout = Layout(\n",
    "    title='Monthwise analysis of vehicles visiting each gate',\n",
    "    xaxis=dict(title='gate-name',tickangle=45,),\n",
    "    yaxis=dict(title='#count'),\n",
    "    width=1000,\n",
    ")"
   ]
  },
  {
   "cell_type": "code",
   "execution_count": 6,
   "metadata": {},
   "outputs": [
    {
     "data": {
      "text/plain": [
       "'file:///home/ayushi/github/data_visualization/vast_challenge_2017/code/qst2_month_visitcount.html'"
      ]
     },
     "execution_count": 6,
     "metadata": {},
     "output_type": "execute_result"
    }
   ],
   "source": [
    "fig = Figure(data=data, layout=layout)\n",
    "#py.iplot(fig)\n",
    "plotly.offline.plot(fig, layout,filename='qst2_month_visitcount.html')"
   ]
  },
  {
   "cell_type": "code",
   "execution_count": null,
   "metadata": {
    "collapsed": true
   },
   "outputs": [],
   "source": []
  }
 ],
 "metadata": {
  "kernelspec": {
   "display_name": "Python 3",
   "language": "python",
   "name": "python3"
  },
  "language_info": {
   "codemirror_mode": {
    "name": "ipython",
    "version": 3
   },
   "file_extension": ".py",
   "mimetype": "text/x-python",
   "name": "python",
   "nbconvert_exporter": "python",
   "pygments_lexer": "ipython3",
   "version": "3.6.1"
  }
 },
 "nbformat": 4,
 "nbformat_minor": 2
}
